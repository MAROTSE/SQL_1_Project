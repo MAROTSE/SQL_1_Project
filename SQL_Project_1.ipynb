{
 "cells": [
  {
   "cell_type": "markdown",
   "id": "acbce277",
   "metadata": {},
   "source": [
    "# SQL PROJECT"
   ]
  },
  {
   "cell_type": "markdown",
   "id": "009c4aeb",
   "metadata": {},
   "source": [
    "### Installing required libraries for the project"
   ]
  },
  {
   "cell_type": "code",
   "execution_count": 1,
   "id": "11f0fb47-4bf5-413e-aff0-77d91b39ac98",
   "metadata": {
    "tags": []
   },
   "outputs": [],
   "source": [
    "#! pip install PyMySQL`\n",
    "#! pip install ipython-sql\n",
    "#! pip install mysqlclient\n",
    "#!pip install ipython-sql mysql-connector-python\n"
   ]
  },
  {
   "cell_type": "markdown",
   "id": "ee3fb958",
   "metadata": {},
   "source": [
    "### Importing required libraries"
   ]
  },
  {
   "cell_type": "code",
   "execution_count": 2,
   "id": "40f0be91-8d39-417e-9bf6-9e401f464d2c",
   "metadata": {
    "tags": []
   },
   "outputs": [],
   "source": [
    "import pymysql as sql\n",
    "import pandas as pd\n",
    "import mysql.connector\n",
    "#import sqlalchemy\n",
    "#sqlalchemy.__version__\n",
    "import warnings\n",
    "warnings.filterwarnings(\"ignore\")"
   ]
  },
  {
   "cell_type": "code",
   "execution_count": 3,
   "id": "1a250dfb-f486-4b99-9e3f-defccdcff24a",
   "metadata": {
    "tags": []
   },
   "outputs": [],
   "source": [
    "# Loading sql magic command module\n",
    "%load_ext sql\n"
   ]
  },
  {
   "cell_type": "code",
   "execution_count": 4,
   "id": "7761c3fb-4ace-416a-9a93-57dfad38f3f2",
   "metadata": {
    "tags": []
   },
   "outputs": [
    {
     "data": {
      "text/plain": [
       "<pymysql.connections.Connection at 0x1f3cbca5e10>"
      ]
     },
     "execution_count": 4,
     "metadata": {},
     "output_type": "execute_result"
    }
   ],
   "source": [
    "#Connection to the mysql database\n",
    "db_name = \"hrdb\"\n",
    "db_host = \"localhost\"\n",
    "db_username = \"root\"\n",
    "db_password = \"2022@2024\"\n",
    "\n",
    "\n",
    "db_con = sql.connect(host = db_host,\n",
    "                           port = int(3306),\n",
    "                           user = \"root\",\n",
    "                           password = db_password,\n",
    "                           db = db_name)\n",
    "db_con    "
   ]
  },
  {
   "cell_type": "code",
   "execution_count": 5,
   "id": "840852d0-2692-472e-8986-61339cc9aa2e",
   "metadata": {
    "tags": []
   },
   "outputs": [
    {
     "data": {
      "text/plain": [
       "<pymysql.cursors.Cursor at 0x1f3cbcb0d90>"
      ]
     },
     "execution_count": 5,
     "metadata": {},
     "output_type": "execute_result"
    }
   ],
   "source": [
    "mycursor = db_con.cursor()\n",
    "mycursor"
   ]
  },
  {
   "cell_type": "code",
   "execution_count": 6,
   "id": "4242cbe5",
   "metadata": {},
   "outputs": [
    {
     "data": {
      "text/html": [
       "<div>\n",
       "<style scoped>\n",
       "    .dataframe tbody tr th:only-of-type {\n",
       "        vertical-align: middle;\n",
       "    }\n",
       "\n",
       "    .dataframe tbody tr th {\n",
       "        vertical-align: top;\n",
       "    }\n",
       "\n",
       "    .dataframe thead th {\n",
       "        text-align: right;\n",
       "    }\n",
       "</style>\n",
       "<table border=\"1\" class=\"dataframe\">\n",
       "  <thead>\n",
       "    <tr style=\"text-align: right;\">\n",
       "      <th></th>\n",
       "      <th>Tables_in_hrdb</th>\n",
       "    </tr>\n",
       "  </thead>\n",
       "  <tbody>\n",
       "    <tr>\n",
       "      <th>0</th>\n",
       "      <td>departments</td>\n",
       "    </tr>\n",
       "    <tr>\n",
       "      <th>1</th>\n",
       "      <td>employees</td>\n",
       "    </tr>\n",
       "    <tr>\n",
       "      <th>2</th>\n",
       "      <td>job_history</td>\n",
       "    </tr>\n",
       "    <tr>\n",
       "      <th>3</th>\n",
       "      <td>jobs</td>\n",
       "    </tr>\n",
       "    <tr>\n",
       "      <th>4</th>\n",
       "      <td>locations</td>\n",
       "    </tr>\n",
       "    <tr>\n",
       "      <th>5</th>\n",
       "      <td>petrescue</td>\n",
       "    </tr>\n",
       "  </tbody>\n",
       "</table>\n",
       "</div>"
      ],
      "text/plain": [
       "  Tables_in_hrdb\n",
       "0    departments\n",
       "1      employees\n",
       "2    job_history\n",
       "3           jobs\n",
       "4      locations\n",
       "5      petrescue"
      ]
     },
     "execution_count": 6,
     "metadata": {},
     "output_type": "execute_result"
    }
   ],
   "source": [
    "#Showing database tables\n",
    "tables = \"SHOW Tables;\"\n",
    "tables_ = pd.read_sql(tables, db_con)\n",
    "tables_"
   ]
  },
  {
   "cell_type": "code",
   "execution_count": 7,
   "id": "083ce1a5-49b0-4f4d-8862-12fe011a5141",
   "metadata": {
    "tags": []
   },
   "outputs": [
    {
     "data": {
      "text/html": [
       "<div>\n",
       "<style scoped>\n",
       "    .dataframe tbody tr th:only-of-type {\n",
       "        vertical-align: middle;\n",
       "    }\n",
       "\n",
       "    .dataframe tbody tr th {\n",
       "        vertical-align: top;\n",
       "    }\n",
       "\n",
       "    .dataframe thead th {\n",
       "        text-align: right;\n",
       "    }\n",
       "</style>\n",
       "<table border=\"1\" class=\"dataframe\">\n",
       "  <thead>\n",
       "    <tr style=\"text-align: right;\">\n",
       "      <th></th>\n",
       "      <th>EMP_ID</th>\n",
       "      <th>F_NAME</th>\n",
       "      <th>L_NAME</th>\n",
       "      <th>SSN</th>\n",
       "      <th>B_DATE</th>\n",
       "      <th>SEX</th>\n",
       "      <th>ADDRESS</th>\n",
       "      <th>JOB_ID</th>\n",
       "      <th>SALARY</th>\n",
       "      <th>MANAGER_ID</th>\n",
       "      <th>DEP_ID</th>\n",
       "    </tr>\n",
       "  </thead>\n",
       "  <tbody>\n",
       "    <tr>\n",
       "      <th>0</th>\n",
       "      <td>E1001</td>\n",
       "      <td>John</td>\n",
       "      <td>Thomas</td>\n",
       "      <td>123456</td>\n",
       "      <td>1976-09-01</td>\n",
       "      <td>M</td>\n",
       "      <td>5631 Rice, OakPark,IL</td>\n",
       "      <td>100</td>\n",
       "      <td>100000.0</td>\n",
       "      <td>30001</td>\n",
       "      <td>2</td>\n",
       "    </tr>\n",
       "    <tr>\n",
       "      <th>1</th>\n",
       "      <td>E1002</td>\n",
       "      <td>Alice</td>\n",
       "      <td>James</td>\n",
       "      <td>123457</td>\n",
       "      <td>1972-07-31</td>\n",
       "      <td>F</td>\n",
       "      <td>980 Berry ln, Elgin,IL</td>\n",
       "      <td>200</td>\n",
       "      <td>80000.0</td>\n",
       "      <td>30002</td>\n",
       "      <td>5</td>\n",
       "    </tr>\n",
       "    <tr>\n",
       "      <th>2</th>\n",
       "      <td>E1003</td>\n",
       "      <td>Steve</td>\n",
       "      <td>Wells</td>\n",
       "      <td>123458</td>\n",
       "      <td>1980-10-08</td>\n",
       "      <td>M</td>\n",
       "      <td>291 Springs, Gary,IL</td>\n",
       "      <td>300</td>\n",
       "      <td>50000.0</td>\n",
       "      <td>30002</td>\n",
       "      <td>5</td>\n",
       "    </tr>\n",
       "    <tr>\n",
       "      <th>3</th>\n",
       "      <td>E1004</td>\n",
       "      <td>Santosh</td>\n",
       "      <td>Kumar</td>\n",
       "      <td>123459</td>\n",
       "      <td>1985-07-20</td>\n",
       "      <td>M</td>\n",
       "      <td>511 Aurora Av, Aurora,IL</td>\n",
       "      <td>400</td>\n",
       "      <td>60000.0</td>\n",
       "      <td>30002</td>\n",
       "      <td>5</td>\n",
       "    </tr>\n",
       "    <tr>\n",
       "      <th>4</th>\n",
       "      <td>E1005</td>\n",
       "      <td>Ahmed</td>\n",
       "      <td>Hussain</td>\n",
       "      <td>123410</td>\n",
       "      <td>1981-04-01</td>\n",
       "      <td>M</td>\n",
       "      <td>216 Oak Tree, Geneva,IL</td>\n",
       "      <td>500</td>\n",
       "      <td>70000.0</td>\n",
       "      <td>30001</td>\n",
       "      <td>2</td>\n",
       "    </tr>\n",
       "  </tbody>\n",
       "</table>\n",
       "</div>"
      ],
      "text/plain": [
       "  EMP_ID   F_NAME   L_NAME     SSN      B_DATE SEX                   ADDRESS  \\\n",
       "0  E1001     John   Thomas  123456  1976-09-01   M     5631 Rice, OakPark,IL   \n",
       "1  E1002    Alice    James  123457  1972-07-31   F    980 Berry ln, Elgin,IL   \n",
       "2  E1003    Steve    Wells  123458  1980-10-08   M      291 Springs, Gary,IL   \n",
       "3  E1004  Santosh    Kumar  123459  1985-07-20   M  511 Aurora Av, Aurora,IL   \n",
       "4  E1005    Ahmed  Hussain  123410  1981-04-01   M   216 Oak Tree, Geneva,IL   \n",
       "\n",
       "  JOB_ID    SALARY MANAGER_ID DEP_ID  \n",
       "0    100  100000.0      30001      2  \n",
       "1    200   80000.0      30002      5  \n",
       "2    300   50000.0      30002      5  \n",
       "3    400   60000.0      30002      5  \n",
       "4    500   70000.0      30001      2  "
      ]
     },
     "execution_count": 7,
     "metadata": {},
     "output_type": "execute_result"
    }
   ],
   "source": [
    "#Displaying the employees table data\n",
    "query1 = (\"SELECT * FROM employees\")\n",
    "\n",
    "emp_data = pd.read_sql_query(query1, db_con, index_col=None)\n",
    "emp_data.head() "
   ]
  },
  {
   "cell_type": "code",
   "execution_count": 8,
   "id": "85aeb577-2f22-41ac-87f9-7a97b055ef56",
   "metadata": {},
   "outputs": [
    {
     "data": {
      "text/html": [
       "<div>\n",
       "<style scoped>\n",
       "    .dataframe tbody tr th:only-of-type {\n",
       "        vertical-align: middle;\n",
       "    }\n",
       "\n",
       "    .dataframe tbody tr th {\n",
       "        vertical-align: top;\n",
       "    }\n",
       "\n",
       "    .dataframe thead th {\n",
       "        text-align: right;\n",
       "    }\n",
       "</style>\n",
       "<table border=\"1\" class=\"dataframe\">\n",
       "  <thead>\n",
       "    <tr style=\"text-align: right;\">\n",
       "      <th></th>\n",
       "      <th>DEPT_ID_DEP</th>\n",
       "      <th>DEP_NAME</th>\n",
       "      <th>MANAGER_ID</th>\n",
       "      <th>LOC_ID</th>\n",
       "    </tr>\n",
       "  </thead>\n",
       "  <tbody>\n",
       "    <tr>\n",
       "      <th>0</th>\n",
       "      <td>2</td>\n",
       "      <td>Architect Group</td>\n",
       "      <td>30001</td>\n",
       "      <td>L0001</td>\n",
       "    </tr>\n",
       "    <tr>\n",
       "      <th>1</th>\n",
       "      <td>5</td>\n",
       "      <td>Software Group</td>\n",
       "      <td>30002</td>\n",
       "      <td>L0002</td>\n",
       "    </tr>\n",
       "    <tr>\n",
       "      <th>2</th>\n",
       "      <td>7</td>\n",
       "      <td>Design Team</td>\n",
       "      <td>30003</td>\n",
       "      <td>L0003</td>\n",
       "    </tr>\n",
       "  </tbody>\n",
       "</table>\n",
       "</div>"
      ],
      "text/plain": [
       "  DEPT_ID_DEP         DEP_NAME MANAGER_ID LOC_ID\n",
       "0           2  Architect Group      30001  L0001\n",
       "1           5   Software Group      30002  L0002\n",
       "2           7      Design Team      30003  L0003"
      ]
     },
     "execution_count": 8,
     "metadata": {},
     "output_type": "execute_result"
    }
   ],
   "source": [
    "#Displaying department data\n",
    "query2 = (\"SELECT * FROM departments\")\n",
    "\n",
    "d_data = pd.read_sql(query2, db_con)\n",
    "d_data.head()"
   ]
  },
  {
   "cell_type": "markdown",
   "id": "7cbec60c",
   "metadata": {},
   "source": [
    "## Querrying the database "
   ]
  },
  {
   "cell_type": "markdown",
   "id": "3f076b02",
   "metadata": {},
   "source": [
    " ### 1 Retrieve the list of all employees, first and last names, whose first names start with ‘S’"
   ]
  },
  {
   "cell_type": "code",
   "execution_count": 9,
   "id": "3cb02c59",
   "metadata": {},
   "outputs": [
    {
     "data": {
      "text/html": [
       "<div>\n",
       "<style scoped>\n",
       "    .dataframe tbody tr th:only-of-type {\n",
       "        vertical-align: middle;\n",
       "    }\n",
       "\n",
       "    .dataframe tbody tr th {\n",
       "        vertical-align: top;\n",
       "    }\n",
       "\n",
       "    .dataframe thead th {\n",
       "        text-align: right;\n",
       "    }\n",
       "</style>\n",
       "<table border=\"1\" class=\"dataframe\">\n",
       "  <thead>\n",
       "    <tr style=\"text-align: right;\">\n",
       "      <th></th>\n",
       "      <th>F_NAME</th>\n",
       "      <th>L_NAME</th>\n",
       "    </tr>\n",
       "  </thead>\n",
       "  <tbody>\n",
       "    <tr>\n",
       "      <th>0</th>\n",
       "      <td>Steve</td>\n",
       "      <td>Wells</td>\n",
       "    </tr>\n",
       "    <tr>\n",
       "      <th>1</th>\n",
       "      <td>Santosh</td>\n",
       "      <td>Kumar</td>\n",
       "    </tr>\n",
       "  </tbody>\n",
       "</table>\n",
       "</div>"
      ],
      "text/plain": [
       "    F_NAME L_NAME\n",
       "0    Steve  Wells\n",
       "1  Santosh  Kumar"
      ]
     },
     "execution_count": 9,
     "metadata": {},
     "output_type": "execute_result"
    }
   ],
   "source": [
    "\n",
    "emp_query1= \"\"\"SELECT F_NAME, L_NAME\n",
    "FROM employees\n",
    "WHERE F_NAME LIKE'S%';\"\"\"\n",
    "\n",
    "emp_names_s = pd.read_sql(emp_query1, db_con)\n",
    "emp_names_s.head()"
   ]
  },
  {
   "cell_type": "markdown",
   "id": "815ae9b5",
   "metadata": {},
   "source": [
    "### 2 Arrange all the records of the EMPLOYEES table in ascending order by the date of birth."
   ]
  },
  {
   "cell_type": "code",
   "execution_count": 10,
   "id": "62724ad8",
   "metadata": {},
   "outputs": [
    {
     "data": {
      "text/html": [
       "<div>\n",
       "<style scoped>\n",
       "    .dataframe tbody tr th:only-of-type {\n",
       "        vertical-align: middle;\n",
       "    }\n",
       "\n",
       "    .dataframe tbody tr th {\n",
       "        vertical-align: top;\n",
       "    }\n",
       "\n",
       "    .dataframe thead th {\n",
       "        text-align: right;\n",
       "    }\n",
       "</style>\n",
       "<table border=\"1\" class=\"dataframe\">\n",
       "  <thead>\n",
       "    <tr style=\"text-align: right;\">\n",
       "      <th></th>\n",
       "      <th>EMP_ID</th>\n",
       "      <th>F_NAME</th>\n",
       "      <th>L_NAME</th>\n",
       "      <th>SSN</th>\n",
       "      <th>B_DATE</th>\n",
       "      <th>SEX</th>\n",
       "      <th>ADDRESS</th>\n",
       "      <th>JOB_ID</th>\n",
       "      <th>SALARY</th>\n",
       "      <th>MANAGER_ID</th>\n",
       "      <th>DEP_ID</th>\n",
       "    </tr>\n",
       "  </thead>\n",
       "  <tbody>\n",
       "    <tr>\n",
       "      <th>0</th>\n",
       "      <td>E1002</td>\n",
       "      <td>Alice</td>\n",
       "      <td>James</td>\n",
       "      <td>123457</td>\n",
       "      <td>1972-07-31</td>\n",
       "      <td>F</td>\n",
       "      <td>980 Berry ln, Elgin,IL</td>\n",
       "      <td>200</td>\n",
       "      <td>80000.0</td>\n",
       "      <td>30002</td>\n",
       "      <td>5</td>\n",
       "    </tr>\n",
       "    <tr>\n",
       "      <th>1</th>\n",
       "      <td>E1007</td>\n",
       "      <td>Mary</td>\n",
       "      <td>Thomas</td>\n",
       "      <td>123412</td>\n",
       "      <td>1975-05-05</td>\n",
       "      <td>F</td>\n",
       "      <td>100 Rose Pl, Gary,IL</td>\n",
       "      <td>650</td>\n",
       "      <td>65000.0</td>\n",
       "      <td>30003</td>\n",
       "      <td>7</td>\n",
       "    </tr>\n",
       "    <tr>\n",
       "      <th>2</th>\n",
       "      <td>E1001</td>\n",
       "      <td>John</td>\n",
       "      <td>Thomas</td>\n",
       "      <td>123456</td>\n",
       "      <td>1976-09-01</td>\n",
       "      <td>M</td>\n",
       "      <td>5631 Rice, OakPark,IL</td>\n",
       "      <td>100</td>\n",
       "      <td>100000.0</td>\n",
       "      <td>30001</td>\n",
       "      <td>2</td>\n",
       "    </tr>\n",
       "    <tr>\n",
       "      <th>3</th>\n",
       "      <td>E1006</td>\n",
       "      <td>Nancy</td>\n",
       "      <td>Allen</td>\n",
       "      <td>123411</td>\n",
       "      <td>1978-06-02</td>\n",
       "      <td>F</td>\n",
       "      <td>111 Green Pl, Elgin,IL</td>\n",
       "      <td>600</td>\n",
       "      <td>90000.0</td>\n",
       "      <td>30001</td>\n",
       "      <td>2</td>\n",
       "    </tr>\n",
       "    <tr>\n",
       "      <th>4</th>\n",
       "      <td>E1003</td>\n",
       "      <td>Steve</td>\n",
       "      <td>Wells</td>\n",
       "      <td>123458</td>\n",
       "      <td>1980-10-08</td>\n",
       "      <td>M</td>\n",
       "      <td>291 Springs, Gary,IL</td>\n",
       "      <td>300</td>\n",
       "      <td>50000.0</td>\n",
       "      <td>30002</td>\n",
       "      <td>5</td>\n",
       "    </tr>\n",
       "  </tbody>\n",
       "</table>\n",
       "</div>"
      ],
      "text/plain": [
       "  EMP_ID F_NAME  L_NAME     SSN      B_DATE SEX                 ADDRESS  \\\n",
       "0  E1002  Alice   James  123457  1972-07-31   F  980 Berry ln, Elgin,IL   \n",
       "1  E1007   Mary  Thomas  123412  1975-05-05   F    100 Rose Pl, Gary,IL   \n",
       "2  E1001   John  Thomas  123456  1976-09-01   M   5631 Rice, OakPark,IL   \n",
       "3  E1006  Nancy   Allen  123411  1978-06-02   F  111 Green Pl, Elgin,IL   \n",
       "4  E1003  Steve   Wells  123458  1980-10-08   M    291 Springs, Gary,IL   \n",
       "\n",
       "  JOB_ID    SALARY MANAGER_ID DEP_ID  \n",
       "0    200   80000.0      30002      5  \n",
       "1    650   65000.0      30003      7  \n",
       "2    100  100000.0      30001      2  \n",
       "3    600   90000.0      30001      2  \n",
       "4    300   50000.0      30002      5  "
      ]
     },
     "execution_count": 10,
     "metadata": {},
     "output_type": "execute_result"
    }
   ],
   "source": [
    "\n",
    "emp_query2 = \"\"\"SELECT * \n",
    "FROM employees\n",
    "ORDER BY B_DATE;\"\"\"\n",
    "\n",
    "emp_ordered = pd.read_sql(emp_query2,db_con)\n",
    "emp_ordered.head()"
   ]
  },
  {
   "cell_type": "markdown",
   "id": "992fe4e8",
   "metadata": {},
   "source": [
    "**3 Group the records in terms of the department IDs, filter the ones that have\n",
    " average salary more than or equal to 60000.Show department ID, department name and the average salary.\n",
    " Round the result to 2 decimal place,sort the results for each group in descending order of average salary** \n",
    " \n",
    " "
   ]
  },
  {
   "cell_type": "code",
   "execution_count": 11,
   "id": "afe9192a",
   "metadata": {},
   "outputs": [
    {
     "data": {
      "text/html": [
       "<div>\n",
       "<style scoped>\n",
       "    .dataframe tbody tr th:only-of-type {\n",
       "        vertical-align: middle;\n",
       "    }\n",
       "\n",
       "    .dataframe tbody tr th {\n",
       "        vertical-align: top;\n",
       "    }\n",
       "\n",
       "    .dataframe thead th {\n",
       "        text-align: right;\n",
       "    }\n",
       "</style>\n",
       "<table border=\"1\" class=\"dataframe\">\n",
       "  <thead>\n",
       "    <tr style=\"text-align: right;\">\n",
       "      <th></th>\n",
       "      <th>DEP_ID</th>\n",
       "      <th>AVG_SALARY</th>\n",
       "      <th>DEP_NAME</th>\n",
       "    </tr>\n",
       "  </thead>\n",
       "  <tbody>\n",
       "    <tr>\n",
       "      <th>0</th>\n",
       "      <td>2</td>\n",
       "      <td>86666.67</td>\n",
       "      <td>Architect Group</td>\n",
       "    </tr>\n",
       "    <tr>\n",
       "      <th>1</th>\n",
       "      <td>7</td>\n",
       "      <td>66666.67</td>\n",
       "      <td>Design Team</td>\n",
       "    </tr>\n",
       "    <tr>\n",
       "      <th>2</th>\n",
       "      <td>5</td>\n",
       "      <td>65000.00</td>\n",
       "      <td>Software Group</td>\n",
       "    </tr>\n",
       "  </tbody>\n",
       "</table>\n",
       "</div>"
      ],
      "text/plain": [
       "  DEP_ID  AVG_SALARY         DEP_NAME\n",
       "0      2    86666.67  Architect Group\n",
       "1      7    66666.67      Design Team\n",
       "2      5    65000.00   Software Group"
      ]
     },
     "execution_count": 11,
     "metadata": {},
     "output_type": "execute_result"
    }
   ],
   "source": [
    "emp_query3 = \"\"\"SELECT DEP_ID, ROUND(AVG(SALARY), 2) AS AVG_SALARY, DEP_NAME\n",
    " FROM employees AS e\n",
    " INNER JOIN departments AS d\n",
    "     ON e.DEP_ID = d.DEPT_ID_DEP\n",
    " GROUP BY DEP_ID\n",
    " HAVING AVG_SALARY >= 60000\n",
    " ORDER BY AVG_SALARY DESC;\"\"\"\n",
    "\n",
    "Grp_result = pd.read_sql(emp_query3, db_con)\n",
    "Grp_result.head()"
   ]
  },
  {
   "cell_type": "markdown",
   "id": "1eadaadf",
   "metadata": {},
   "source": [
    "### 4 Retrieve the names of employees along with their department names."
   ]
  },
  {
   "cell_type": "code",
   "execution_count": 12,
   "id": "d673088c",
   "metadata": {},
   "outputs": [
    {
     "data": {
      "text/html": [
       "<div>\n",
       "<style scoped>\n",
       "    .dataframe tbody tr th:only-of-type {\n",
       "        vertical-align: middle;\n",
       "    }\n",
       "\n",
       "    .dataframe tbody tr th {\n",
       "        vertical-align: top;\n",
       "    }\n",
       "\n",
       "    .dataframe thead th {\n",
       "        text-align: right;\n",
       "    }\n",
       "</style>\n",
       "<table border=\"1\" class=\"dataframe\">\n",
       "  <thead>\n",
       "    <tr style=\"text-align: right;\">\n",
       "      <th></th>\n",
       "      <th>F_NAME</th>\n",
       "      <th>L_NAME</th>\n",
       "      <th>DEP_NAME</th>\n",
       "    </tr>\n",
       "  </thead>\n",
       "  <tbody>\n",
       "    <tr>\n",
       "      <th>0</th>\n",
       "      <td>John</td>\n",
       "      <td>Thomas</td>\n",
       "      <td>Architect Group</td>\n",
       "    </tr>\n",
       "    <tr>\n",
       "      <th>1</th>\n",
       "      <td>Alice</td>\n",
       "      <td>James</td>\n",
       "      <td>Software Group</td>\n",
       "    </tr>\n",
       "    <tr>\n",
       "      <th>2</th>\n",
       "      <td>Steve</td>\n",
       "      <td>Wells</td>\n",
       "      <td>Software Group</td>\n",
       "    </tr>\n",
       "    <tr>\n",
       "      <th>3</th>\n",
       "      <td>Santosh</td>\n",
       "      <td>Kumar</td>\n",
       "      <td>Software Group</td>\n",
       "    </tr>\n",
       "    <tr>\n",
       "      <th>4</th>\n",
       "      <td>Ahmed</td>\n",
       "      <td>Hussain</td>\n",
       "      <td>Architect Group</td>\n",
       "    </tr>\n",
       "  </tbody>\n",
       "</table>\n",
       "</div>"
      ],
      "text/plain": [
       "    F_NAME   L_NAME         DEP_NAME\n",
       "0     John   Thomas  Architect Group\n",
       "1    Alice    James   Software Group\n",
       "2    Steve    Wells   Software Group\n",
       "3  Santosh    Kumar   Software Group\n",
       "4    Ahmed  Hussain  Architect Group"
      ]
     },
     "execution_count": 12,
     "metadata": {},
     "output_type": "execute_result"
    }
   ],
   "source": [
    "emp_query4 = \"\"\"SELECT F_NAME, L_NAME, DEP_NAME\n",
    "FROM  employees AS e\n",
    "INNER JOIN  departments AS d\n",
    "ON e.DEP_ID = d.DEPT_ID_DEP;\"\"\"\n",
    "\n",
    "emp_dep = pd.read_sql(emp_query4, db_con)\n",
    "emp_dep.head()"
   ]
  },
  {
   "cell_type": "markdown",
   "id": "e576fceb",
   "metadata": {},
   "source": [
    "### 5 Count how many employees hold each job title."
   ]
  },
  {
   "cell_type": "code",
   "execution_count": 13,
   "id": "ed942962",
   "metadata": {},
   "outputs": [
    {
     "data": {
      "text/html": [
       "<div>\n",
       "<style scoped>\n",
       "    .dataframe tbody tr th:only-of-type {\n",
       "        vertical-align: middle;\n",
       "    }\n",
       "\n",
       "    .dataframe tbody tr th {\n",
       "        vertical-align: top;\n",
       "    }\n",
       "\n",
       "    .dataframe thead th {\n",
       "        text-align: right;\n",
       "    }\n",
       "</style>\n",
       "<table border=\"1\" class=\"dataframe\">\n",
       "  <thead>\n",
       "    <tr style=\"text-align: right;\">\n",
       "      <th></th>\n",
       "      <th>JOB_TITLE</th>\n",
       "      <th>NUM_OF_EMPLOYEES</th>\n",
       "    </tr>\n",
       "  </thead>\n",
       "  <tbody>\n",
       "    <tr>\n",
       "      <th>0</th>\n",
       "      <td>Jr. Architect</td>\n",
       "      <td>1</td>\n",
       "    </tr>\n",
       "    <tr>\n",
       "      <th>1</th>\n",
       "      <td>Jr. Designer</td>\n",
       "      <td>2</td>\n",
       "    </tr>\n",
       "    <tr>\n",
       "      <th>2</th>\n",
       "      <td>Jr.Software Developer</td>\n",
       "      <td>2</td>\n",
       "    </tr>\n",
       "    <tr>\n",
       "      <th>3</th>\n",
       "      <td>Lead Architect</td>\n",
       "      <td>1</td>\n",
       "    </tr>\n",
       "    <tr>\n",
       "      <th>4</th>\n",
       "      <td>Sr. Architect</td>\n",
       "      <td>1</td>\n",
       "    </tr>\n",
       "  </tbody>\n",
       "</table>\n",
       "</div>"
      ],
      "text/plain": [
       "               JOB_TITLE  NUM_OF_EMPLOYEES\n",
       "0          Jr. Architect                 1\n",
       "1           Jr. Designer                 2\n",
       "2  Jr.Software Developer                 2\n",
       "3         Lead Architect                 1\n",
       "4          Sr. Architect                 1"
      ]
     },
     "execution_count": 13,
     "metadata": {},
     "output_type": "execute_result"
    }
   ],
   "source": [
    "emp_query5 = \"\"\"SELECT JOB_TITLE, COUNT(JOB_TITLE) AS NUM_OF_EMPLOYEES\n",
    "FROM employees AS e\n",
    "LEFT JOIN jobs AS j\n",
    "ON  e.JOB_ID= j.JOB_IDENT\n",
    "GROUP BY JOB_TITLE\n",
    "ORDER BY JOB_TITLE;\"\"\"\n",
    "\n",
    "emp_title_count = pd.read_sql(emp_query5, db_con)\n",
    "emp_title_count.head()"
   ]
  },
  {
   "cell_type": "markdown",
   "id": "edb6ab7d",
   "metadata": {},
   "source": [
    "### 6 Find the average salary of employees in each departments"
   ]
  },
  {
   "cell_type": "code",
   "execution_count": 14,
   "id": "a74936e0",
   "metadata": {},
   "outputs": [
    {
     "data": {
      "text/html": [
       "<div>\n",
       "<style scoped>\n",
       "    .dataframe tbody tr th:only-of-type {\n",
       "        vertical-align: middle;\n",
       "    }\n",
       "\n",
       "    .dataframe tbody tr th {\n",
       "        vertical-align: top;\n",
       "    }\n",
       "\n",
       "    .dataframe thead th {\n",
       "        text-align: right;\n",
       "    }\n",
       "</style>\n",
       "<table border=\"1\" class=\"dataframe\">\n",
       "  <thead>\n",
       "    <tr style=\"text-align: right;\">\n",
       "      <th></th>\n",
       "      <th>AVG_SALARY</th>\n",
       "      <th>DEP_NAME</th>\n",
       "    </tr>\n",
       "  </thead>\n",
       "  <tbody>\n",
       "    <tr>\n",
       "      <th>0</th>\n",
       "      <td>86666.67</td>\n",
       "      <td>Architect Group</td>\n",
       "    </tr>\n",
       "    <tr>\n",
       "      <th>1</th>\n",
       "      <td>65000.00</td>\n",
       "      <td>Software Group</td>\n",
       "    </tr>\n",
       "    <tr>\n",
       "      <th>2</th>\n",
       "      <td>66666.67</td>\n",
       "      <td>Design Team</td>\n",
       "    </tr>\n",
       "  </tbody>\n",
       "</table>\n",
       "</div>"
      ],
      "text/plain": [
       "   AVG_SALARY         DEP_NAME\n",
       "0    86666.67  Architect Group\n",
       "1    65000.00   Software Group\n",
       "2    66666.67      Design Team"
      ]
     },
     "execution_count": 14,
     "metadata": {},
     "output_type": "execute_result"
    }
   ],
   "source": [
    "emp_query6 = \"\"\"SELECT ROUND(AVG(SALARY),2)AS AVG_SALARY, DEP_NAME\n",
    "FROM employees AS e\n",
    "LEFT JOIN departments AS d\n",
    "\tON e.DEP_ID= d.DEPT_ID_DEP\n",
    "GROUP BY DEP_NAME;\"\"\"\n",
    "\n",
    "avg_dep_salary = pd.read_sql(emp_query6, db_con)\n",
    "avg_dep_salary.head()"
   ]
  },
  {
   "cell_type": "markdown",
   "id": "df20fcfc",
   "metadata": {},
   "source": [
    "### 7 Determine which department has the most employees."
   ]
  },
  {
   "cell_type": "code",
   "execution_count": 15,
   "id": "c9108d43",
   "metadata": {},
   "outputs": [
    {
     "data": {
      "text/html": [
       "<div>\n",
       "<style scoped>\n",
       "    .dataframe tbody tr th:only-of-type {\n",
       "        vertical-align: middle;\n",
       "    }\n",
       "\n",
       "    .dataframe tbody tr th {\n",
       "        vertical-align: top;\n",
       "    }\n",
       "\n",
       "    .dataframe thead th {\n",
       "        text-align: right;\n",
       "    }\n",
       "</style>\n",
       "<table border=\"1\" class=\"dataframe\">\n",
       "  <thead>\n",
       "    <tr style=\"text-align: right;\">\n",
       "      <th></th>\n",
       "      <th>DEP_NAME</th>\n",
       "      <th>NUM_OF_EMPLOYEES</th>\n",
       "    </tr>\n",
       "  </thead>\n",
       "  <tbody>\n",
       "    <tr>\n",
       "      <th>0</th>\n",
       "      <td>Architect Group</td>\n",
       "      <td>3</td>\n",
       "    </tr>\n",
       "    <tr>\n",
       "      <th>1</th>\n",
       "      <td>Software Group</td>\n",
       "      <td>4</td>\n",
       "    </tr>\n",
       "    <tr>\n",
       "      <th>2</th>\n",
       "      <td>Design Team</td>\n",
       "      <td>3</td>\n",
       "    </tr>\n",
       "  </tbody>\n",
       "</table>\n",
       "</div>"
      ],
      "text/plain": [
       "          DEP_NAME  NUM_OF_EMPLOYEES\n",
       "0  Architect Group                 3\n",
       "1   Software Group                 4\n",
       "2      Design Team                 3"
      ]
     },
     "execution_count": 15,
     "metadata": {},
     "output_type": "execute_result"
    }
   ],
   "source": [
    "emp_query7 = \"\"\"SELECT  DEP_NAME, COUNT(DEP_ID) AS NUM_OF_EMPLOYEES\n",
    "FROM employees AS e\n",
    "LEFT JOIN departments AS d\n",
    "\tON e.DEP_ID = d.DEPT_ID_DEP\n",
    "GROUP BY DEP_NAME;\"\"\"\n",
    "\n",
    "dep_emp_count = pd.read_sql(emp_query7, db_con)\n",
    "dep_emp_count.head()"
   ]
  },
  {
   "cell_type": "markdown",
   "id": "d37637ea",
   "metadata": {},
   "source": [
    "### 8 Retrieve all employee records whose salary is lower than the average salary."
   ]
  },
  {
   "cell_type": "code",
   "execution_count": 16,
   "id": "0eb5ac08",
   "metadata": {},
   "outputs": [
    {
     "data": {
      "text/html": [
       "<div>\n",
       "<style scoped>\n",
       "    .dataframe tbody tr th:only-of-type {\n",
       "        vertical-align: middle;\n",
       "    }\n",
       "\n",
       "    .dataframe tbody tr th {\n",
       "        vertical-align: top;\n",
       "    }\n",
       "\n",
       "    .dataframe thead th {\n",
       "        text-align: right;\n",
       "    }\n",
       "</style>\n",
       "<table border=\"1\" class=\"dataframe\">\n",
       "  <thead>\n",
       "    <tr style=\"text-align: right;\">\n",
       "      <th></th>\n",
       "      <th>EMP_ID</th>\n",
       "      <th>F_NAME</th>\n",
       "      <th>L_NAME</th>\n",
       "      <th>SSN</th>\n",
       "      <th>B_DATE</th>\n",
       "      <th>SEX</th>\n",
       "      <th>ADDRESS</th>\n",
       "      <th>JOB_ID</th>\n",
       "      <th>SALARY</th>\n",
       "      <th>MANAGER_ID</th>\n",
       "      <th>DEP_ID</th>\n",
       "    </tr>\n",
       "  </thead>\n",
       "  <tbody>\n",
       "    <tr>\n",
       "      <th>0</th>\n",
       "      <td>E1003</td>\n",
       "      <td>Steve</td>\n",
       "      <td>Wells</td>\n",
       "      <td>123458</td>\n",
       "      <td>1980-10-08</td>\n",
       "      <td>M</td>\n",
       "      <td>291 Springs, Gary,IL</td>\n",
       "      <td>300</td>\n",
       "      <td>50000.0</td>\n",
       "      <td>30002</td>\n",
       "      <td>5</td>\n",
       "    </tr>\n",
       "    <tr>\n",
       "      <th>1</th>\n",
       "      <td>E1004</td>\n",
       "      <td>Santosh</td>\n",
       "      <td>Kumar</td>\n",
       "      <td>123459</td>\n",
       "      <td>1985-07-20</td>\n",
       "      <td>M</td>\n",
       "      <td>511 Aurora Av, Aurora,IL</td>\n",
       "      <td>400</td>\n",
       "      <td>60000.0</td>\n",
       "      <td>30002</td>\n",
       "      <td>5</td>\n",
       "    </tr>\n",
       "    <tr>\n",
       "      <th>2</th>\n",
       "      <td>E1005</td>\n",
       "      <td>Ahmed</td>\n",
       "      <td>Hussain</td>\n",
       "      <td>123410</td>\n",
       "      <td>1981-04-01</td>\n",
       "      <td>M</td>\n",
       "      <td>216 Oak Tree, Geneva,IL</td>\n",
       "      <td>500</td>\n",
       "      <td>70000.0</td>\n",
       "      <td>30001</td>\n",
       "      <td>2</td>\n",
       "    </tr>\n",
       "    <tr>\n",
       "      <th>3</th>\n",
       "      <td>E1007</td>\n",
       "      <td>Mary</td>\n",
       "      <td>Thomas</td>\n",
       "      <td>123412</td>\n",
       "      <td>1975-05-05</td>\n",
       "      <td>F</td>\n",
       "      <td>100 Rose Pl, Gary,IL</td>\n",
       "      <td>650</td>\n",
       "      <td>65000.0</td>\n",
       "      <td>30003</td>\n",
       "      <td>7</td>\n",
       "    </tr>\n",
       "    <tr>\n",
       "      <th>4</th>\n",
       "      <td>E1008</td>\n",
       "      <td>Bharath</td>\n",
       "      <td>Gupta</td>\n",
       "      <td>123413</td>\n",
       "      <td>1985-06-05</td>\n",
       "      <td>M</td>\n",
       "      <td>145 Berry Ln, Naperville,IL</td>\n",
       "      <td>660</td>\n",
       "      <td>65000.0</td>\n",
       "      <td>30003</td>\n",
       "      <td>7</td>\n",
       "    </tr>\n",
       "  </tbody>\n",
       "</table>\n",
       "</div>"
      ],
      "text/plain": [
       "  EMP_ID   F_NAME   L_NAME     SSN      B_DATE SEX  \\\n",
       "0  E1003    Steve    Wells  123458  1980-10-08   M   \n",
       "1  E1004  Santosh    Kumar  123459  1985-07-20   M   \n",
       "2  E1005    Ahmed  Hussain  123410  1981-04-01   M   \n",
       "3  E1007     Mary   Thomas  123412  1975-05-05   F   \n",
       "4  E1008  Bharath    Gupta  123413  1985-06-05   M   \n",
       "\n",
       "                       ADDRESS JOB_ID   SALARY MANAGER_ID DEP_ID  \n",
       "0         291 Springs, Gary,IL    300  50000.0      30002      5  \n",
       "1     511 Aurora Av, Aurora,IL    400  60000.0      30002      5  \n",
       "2      216 Oak Tree, Geneva,IL    500  70000.0      30001      2  \n",
       "3         100 Rose Pl, Gary,IL    650  65000.0      30003      7  \n",
       "4  145 Berry Ln, Naperville,IL    660  65000.0      30003      7  "
      ]
     },
     "execution_count": 16,
     "metadata": {},
     "output_type": "execute_result"
    }
   ],
   "source": [
    " emp_query8 = \"\"\"SELECT * FROM employees\n",
    "WHERE SALARY < (SELECT AVG(SALARY) FROM employees\n",
    "ORDER BY SALARY);\"\"\"\n",
    "\n",
    "lower_avg_salary =  pd.read_sql(emp_query8, db_con)\n",
    "lower_avg_salary.head()"
   ]
  },
  {
   "cell_type": "markdown",
   "id": "b3adfe51",
   "metadata": {},
   "source": [
    "### 9 Extract the first and last names of the oldest employee."
   ]
  },
  {
   "cell_type": "code",
   "execution_count": 17,
   "id": "2dac72c9",
   "metadata": {},
   "outputs": [
    {
     "data": {
      "text/html": [
       "<div>\n",
       "<style scoped>\n",
       "    .dataframe tbody tr th:only-of-type {\n",
       "        vertical-align: middle;\n",
       "    }\n",
       "\n",
       "    .dataframe tbody tr th {\n",
       "        vertical-align: top;\n",
       "    }\n",
       "\n",
       "    .dataframe thead th {\n",
       "        text-align: right;\n",
       "    }\n",
       "</style>\n",
       "<table border=\"1\" class=\"dataframe\">\n",
       "  <thead>\n",
       "    <tr style=\"text-align: right;\">\n",
       "      <th></th>\n",
       "      <th>F_NAME</th>\n",
       "      <th>L_NAME</th>\n",
       "    </tr>\n",
       "  </thead>\n",
       "  <tbody>\n",
       "    <tr>\n",
       "      <th>0</th>\n",
       "      <td>Alice</td>\n",
       "      <td>James</td>\n",
       "    </tr>\n",
       "  </tbody>\n",
       "</table>\n",
       "</div>"
      ],
      "text/plain": [
       "  F_NAME L_NAME\n",
       "0  Alice  James"
      ]
     },
     "execution_count": 17,
     "metadata": {},
     "output_type": "execute_result"
    }
   ],
   "source": [
    "emp_query9 = \"\"\"SELECT F_NAME, L_NAME FROM employees\n",
    "WHERE B_DATE = (SELECT MIN(B_DATE) FROM employees);\"\"\"\n",
    "\n",
    "oldest_emp = pd.read_sql(emp_query9, db_con)\n",
    "oldest_emp"
   ]
  },
  {
   "cell_type": "markdown",
   "id": "106db5cd",
   "metadata": {},
   "source": [
    "### Extract the first and last names of the highest paid  employee."
   ]
  },
  {
   "cell_type": "code",
   "execution_count": 18,
   "id": "fca54323",
   "metadata": {},
   "outputs": [
    {
     "data": {
      "text/html": [
       "<div>\n",
       "<style scoped>\n",
       "    .dataframe tbody tr th:only-of-type {\n",
       "        vertical-align: middle;\n",
       "    }\n",
       "\n",
       "    .dataframe tbody tr th {\n",
       "        vertical-align: top;\n",
       "    }\n",
       "\n",
       "    .dataframe thead th {\n",
       "        text-align: right;\n",
       "    }\n",
       "</style>\n",
       "<table border=\"1\" class=\"dataframe\">\n",
       "  <thead>\n",
       "    <tr style=\"text-align: right;\">\n",
       "      <th></th>\n",
       "      <th>F_NAME</th>\n",
       "      <th>L_NAME</th>\n",
       "      <th>SALARY</th>\n",
       "    </tr>\n",
       "  </thead>\n",
       "  <tbody>\n",
       "    <tr>\n",
       "      <th>0</th>\n",
       "      <td>John</td>\n",
       "      <td>Thomas</td>\n",
       "      <td>100000.0</td>\n",
       "    </tr>\n",
       "  </tbody>\n",
       "</table>\n",
       "</div>"
      ],
      "text/plain": [
       "  F_NAME  L_NAME    SALARY\n",
       "0   John  Thomas  100000.0"
      ]
     },
     "execution_count": 18,
     "metadata": {},
     "output_type": "execute_result"
    }
   ],
   "source": [
    "\n",
    "emp_query10 = \"\"\"SELECT F_NAME, L_NAME,SALARY FROM employees\n",
    "WHERE SALARY = (SELECT MAX(SALARY) FROM employees);\"\"\"\n",
    "\n",
    "high_paid_emp =pd.read_sql(emp_query10, db_con)\n",
    "high_paid_emp"
   ]
  },
  {
   "cell_type": "markdown",
   "id": "fc8ab1f8",
   "metadata": {},
   "source": [
    "**11 Identify the average cost of rescuing a single dog.Note that the cost per dog would be in different instances.** \n"
   ]
  },
  {
   "cell_type": "code",
   "execution_count": 19,
   "id": "2ed46e33",
   "metadata": {},
   "outputs": [
    {
     "data": {
      "text/html": [
       "<div>\n",
       "<style scoped>\n",
       "    .dataframe tbody tr th:only-of-type {\n",
       "        vertical-align: middle;\n",
       "    }\n",
       "\n",
       "    .dataframe tbody tr th {\n",
       "        vertical-align: top;\n",
       "    }\n",
       "\n",
       "    .dataframe thead th {\n",
       "        text-align: right;\n",
       "    }\n",
       "</style>\n",
       "<table border=\"1\" class=\"dataframe\">\n",
       "  <thead>\n",
       "    <tr style=\"text-align: right;\">\n",
       "      <th></th>\n",
       "      <th>Dog_avg_rescue</th>\n",
       "    </tr>\n",
       "  </thead>\n",
       "  <tbody>\n",
       "    <tr>\n",
       "      <th>0</th>\n",
       "      <td>127.27</td>\n",
       "    </tr>\n",
       "  </tbody>\n",
       "</table>\n",
       "</div>"
      ],
      "text/plain": [
       "   Dog_avg_rescue\n",
       "0          127.27"
      ]
     },
     "execution_count": 19,
     "metadata": {},
     "output_type": "execute_result"
    }
   ],
   "source": [
    "emp_query11 = \"\"\"SELECT ROUND(AVG(COST/QUANTITY),2) AS Dog_avg_rescue FROM petrescue\n",
    "WHERE ANIMAL = 'Dog';\"\"\"\n",
    "cost_dog_res = pd.read_sql(emp_query11, db_con)\n",
    "cost_dog_res"
   ]
  },
  {
   "cell_type": "markdown",
   "id": "7b12635b",
   "metadata": {},
   "source": [
    "### Show the number of rescues in the 5th month"
   ]
  },
  {
   "cell_type": "code",
   "execution_count": 20,
   "id": "5ec50b14",
   "metadata": {},
   "outputs": [
    {
     "data": {
      "text/html": [
       "<div>\n",
       "<style scoped>\n",
       "    .dataframe tbody tr th:only-of-type {\n",
       "        vertical-align: middle;\n",
       "    }\n",
       "\n",
       "    .dataframe tbody tr th {\n",
       "        vertical-align: top;\n",
       "    }\n",
       "\n",
       "    .dataframe thead th {\n",
       "        text-align: right;\n",
       "    }\n",
       "</style>\n",
       "<table border=\"1\" class=\"dataframe\">\n",
       "  <thead>\n",
       "    <tr style=\"text-align: right;\">\n",
       "      <th></th>\n",
       "      <th>NUM_OF_RESCUES</th>\n",
       "    </tr>\n",
       "  </thead>\n",
       "  <tbody>\n",
       "    <tr>\n",
       "      <th>0</th>\n",
       "      <td>9.0</td>\n",
       "    </tr>\n",
       "  </tbody>\n",
       "</table>\n",
       "</div>"
      ],
      "text/plain": [
       "   NUM_OF_RESCUES\n",
       "0             9.0"
      ]
     },
     "execution_count": 20,
     "metadata": {},
     "output_type": "execute_result"
    }
   ],
   "source": [
    "emp_query12 = \"\"\"SELECT SUM(QUANTITY) AS NUM_OF_RESCUES \n",
    " FROM petrescue \n",
    " WHERE MONTH(RESCUEDATE) = '05';\"\"\"\n",
    "total_res_in_5 = pd.read_sql(emp_query12, db_con)\n",
    "total_res_in_5"
   ]
  },
  {
   "cell_type": "markdown",
   "id": "8739c573",
   "metadata": {},
   "source": [
    "**13 The rescue shelter is supposed to find good homes for all animals within 1 year of their rescue. \n",
    " Write a query to show ID and the target date.**"
   ]
  },
  {
   "cell_type": "code",
   "execution_count": 21,
   "id": "ab87114a",
   "metadata": {},
   "outputs": [
    {
     "data": {
      "text/html": [
       "<div>\n",
       "<style scoped>\n",
       "    .dataframe tbody tr th:only-of-type {\n",
       "        vertical-align: middle;\n",
       "    }\n",
       "\n",
       "    .dataframe tbody tr th {\n",
       "        vertical-align: top;\n",
       "    }\n",
       "\n",
       "    .dataframe thead th {\n",
       "        text-align: right;\n",
       "    }\n",
       "</style>\n",
       "<table border=\"1\" class=\"dataframe\">\n",
       "  <thead>\n",
       "    <tr style=\"text-align: right;\">\n",
       "      <th></th>\n",
       "      <th>ID</th>\n",
       "      <th>DATE_ADD(RESCUEDATE, INTERVAL 1 YEAR)</th>\n",
       "    </tr>\n",
       "  </thead>\n",
       "  <tbody>\n",
       "    <tr>\n",
       "      <th>0</th>\n",
       "      <td>1</td>\n",
       "      <td>2019-05-29</td>\n",
       "    </tr>\n",
       "    <tr>\n",
       "      <th>1</th>\n",
       "      <td>2</td>\n",
       "      <td>2019-06-01</td>\n",
       "    </tr>\n",
       "    <tr>\n",
       "      <th>2</th>\n",
       "      <td>3</td>\n",
       "      <td>2019-06-04</td>\n",
       "    </tr>\n",
       "    <tr>\n",
       "      <th>3</th>\n",
       "      <td>4</td>\n",
       "      <td>2019-06-04</td>\n",
       "    </tr>\n",
       "    <tr>\n",
       "      <th>4</th>\n",
       "      <td>5</td>\n",
       "      <td>2019-06-10</td>\n",
       "    </tr>\n",
       "  </tbody>\n",
       "</table>\n",
       "</div>"
      ],
      "text/plain": [
       "   ID DATE_ADD(RESCUEDATE, INTERVAL 1 YEAR)\n",
       "0   1                            2019-05-29\n",
       "1   2                            2019-06-01\n",
       "2   3                            2019-06-04\n",
       "3   4                            2019-06-04\n",
       "4   5                            2019-06-10"
      ]
     },
     "execution_count": 21,
     "metadata": {},
     "output_type": "execute_result"
    }
   ],
   "source": [
    "emp_query13 = \"\"\"SELECT ID, DATE_ADD(RESCUEDATE, INTERVAL 1 YEAR) \n",
    " FROM petrescue;\"\"\"\n",
    "\n",
    "res_in_ayear = pd.read_sql(emp_query13, db_con)\n",
    "res_in_ayear.head()"
   ]
  }
 ],
 "metadata": {
  "kernelspec": {
   "display_name": "Python 3 (ipykernel)",
   "language": "python",
   "name": "python3"
  },
  "language_info": {
   "codemirror_mode": {
    "name": "ipython",
    "version": 3
   },
   "file_extension": ".py",
   "mimetype": "text/x-python",
   "name": "python",
   "nbconvert_exporter": "python",
   "pygments_lexer": "ipython3",
   "version": "3.11.5"
  }
 },
 "nbformat": 4,
 "nbformat_minor": 5
}
